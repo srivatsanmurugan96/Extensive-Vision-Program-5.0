{
  "nbformat": 4,
  "nbformat_minor": 0,
  "metadata": {
    "colab": {
      "name": "Quiz.ipynb",
      "provenance": [],
      "collapsed_sections": []
    },
    "kernelspec": {
      "name": "python3",
      "display_name": "Python 3"
    },
    "accelerator": "GPU"
  },
  "cells": [
    {
      "cell_type": "markdown",
      "metadata": {
        "id": "_aoaxJRdDqAq"
      },
      "source": [
        "## Date and Time"
      ]
    },
    {
      "cell_type": "code",
      "metadata": {
        "id": "K16LpRPXDkwR",
        "outputId": "b2ec0172-cbb6-4298-e6d9-25dac8e3001e",
        "colab": {
          "base_uri": "https://localhost:8080/",
          "height": 33
        }
      },
      "source": [
        "from datetime import datetime \n",
        "print(\"Current Date/Time: \", datetime.now())"
      ],
      "execution_count": 1,
      "outputs": [
        {
          "output_type": "stream",
          "text": [
            "Current Date/Time:  2020-09-26 11:31:16.245627\n"
          ],
          "name": "stdout"
        }
      ]
    },
    {
      "cell_type": "code",
      "metadata": {
        "id": "QO6F8Pn6gqIu",
        "outputId": "8e60841f-7929-46a6-9668-d14ca5fac077",
        "colab": {
          "base_uri": "https://localhost:8080/",
          "height": 50
        }
      },
      "source": [
        "from google.colab import drive\n",
        "drive.mount('/content/drive')\n",
        "%cd /content/drive/My\\ Drive/EVA/session7/app"
      ],
      "execution_count": 2,
      "outputs": [
        {
          "output_type": "stream",
          "text": [
            "Mounted at /content/drive\n",
            "/content/drive/My Drive/EVA/session7/app\n"
          ],
          "name": "stdout"
        }
      ]
    },
    {
      "cell_type": "code",
      "metadata": {
        "id": "kf_RVxBxgrmS",
        "outputId": "440c3e61-16a1-4b8c-abd0-954b1a401903",
        "colab": {
          "base_uri": "https://localhost:8080/",
          "height": 33
        }
      },
      "source": [
        "!pwd"
      ],
      "execution_count": 3,
      "outputs": [
        {
          "output_type": "stream",
          "text": [
            "/content/drive/My Drive/EVA/session7/app\n"
          ],
          "name": "stdout"
        }
      ]
    },
    {
      "cell_type": "code",
      "metadata": {
        "id": "HiPSRzQcg9f_"
      },
      "source": [
        "import torch\n",
        "import torch.nn as nn\n",
        "import torch.nn.functional as F\n",
        "from tqdm import tqdm\n",
        "import torch\n",
        "from torch.optim.lr_scheduler import StepLR\n",
        "import torch.optim as optim\n",
        "import torch.nn.functional as F"
      ],
      "execution_count": 4,
      "outputs": []
    },
    {
      "cell_type": "code",
      "metadata": {
        "id": "W6i3HQqyBRrJ"
      },
      "source": [
        "from data_augmentation.albumenatiton import AlbumentationTransform"
      ],
      "execution_count": 5,
      "outputs": []
    },
    {
      "cell_type": "code",
      "metadata": {
        "id": "gC6yGRlsg__c"
      },
      "source": [
        "from data_loader.data_pull_CIFAR10_new import data_pull_CIFAR10"
      ],
      "execution_count": 6,
      "outputs": []
    },
    {
      "cell_type": "code",
      "metadata": {
        "id": "3aoyB-1hhAFI"
      },
      "source": [
        "train_transforms = AlbumentationTransform(1)\n",
        "test_transforms = AlbumentationTransform(0)"
      ],
      "execution_count": 7,
      "outputs": []
    },
    {
      "cell_type": "code",
      "metadata": {
        "id": "uu2WxCBQSEh9"
      },
      "source": [
        "import torch\n",
        "import torchvision\n",
        "import torchvision.transforms as transforms\n",
        "import numpy as np"
      ],
      "execution_count": 8,
      "outputs": []
    },
    {
      "cell_type": "code",
      "metadata": {
        "id": "i6vU5l3jhADd",
        "outputId": "ea502fda-0bdf-4d73-b15c-fac9568d83f3",
        "colab": {
          "base_uri": "https://localhost:8080/",
          "height": 66
        }
      },
      "source": [
        "trainloader,  testloader, classes = data_pull_CIFAR10(train_transforms, test_transforms)"
      ],
      "execution_count": 9,
      "outputs": [
        {
          "output_type": "stream",
          "text": [
            "Files already downloaded and verified\n",
            "Files already downloaded and verified\n",
            "CUDA Available? True\n"
          ],
          "name": "stdout"
        }
      ]
    },
    {
      "cell_type": "code",
      "metadata": {
        "id": "Vhsb8ThWmmMK",
        "outputId": "68b58e77-b2fb-4ac4-a9a7-d9c6eeb8835d",
        "colab": {
          "base_uri": "https://localhost:8080/",
          "height": 180
        }
      },
      "source": [
        "classes"
      ],
      "execution_count": 10,
      "outputs": [
        {
          "output_type": "execute_result",
          "data": {
            "text/plain": [
              "('plane',\n",
              " 'car',\n",
              " 'bird',\n",
              " 'cat',\n",
              " 'deer',\n",
              " 'dog',\n",
              " 'frog',\n",
              " 'horse',\n",
              " 'ship',\n",
              " 'truck')"
            ]
          },
          "metadata": {
            "tags": []
          },
          "execution_count": 10
        }
      ]
    },
    {
      "cell_type": "code",
      "metadata": {
        "id": "Iy-UO4j8Be_m"
      },
      "source": [
        "from model.QuizDNN import Quiz_DNN"
      ],
      "execution_count": 8,
      "outputs": []
    },
    {
      "cell_type": "code",
      "metadata": {
        "id": "9m5aKxHDm1Vz"
      },
      "source": [
        "use_cuda = torch.cuda.is_available()\n",
        "device = torch.device(\"cuda\" if use_cuda else \"cpu\")\n",
        "model=Quiz_DNN().to(device)"
      ],
      "execution_count": 12,
      "outputs": []
    },
    {
      "cell_type": "code",
      "metadata": {
        "id": "MFMvj7Wpm39j",
        "outputId": "67c783d9-2613-4e20-c17d-5477e8bcb6c4",
        "colab": {
          "base_uri": "https://localhost:8080/",
          "height": 700
        }
      },
      "source": [
        "from utils.summary import get_summary\n",
        "\n",
        "get_summary(model,(3,32,32))"
      ],
      "execution_count": 13,
      "outputs": [
        {
          "output_type": "stream",
          "text": [
            "----------------------------------------------------------------\n",
            "        Layer (type)               Output Shape         Param #\n",
            "================================================================\n",
            "            Conv2d-1           [-1, 64, 32, 32]           1,728\n",
            "       BatchNorm2d-2           [-1, 64, 32, 32]             128\n",
            "            Conv2d-3           [-1, 64, 32, 32]          36,864\n",
            "       BatchNorm2d-4           [-1, 64, 32, 32]             128\n",
            "        BasicBlock-5           [-1, 64, 32, 32]               0\n",
            "         MaxPool2d-6           [-1, 64, 16, 16]               0\n",
            "            Conv2d-7          [-1, 128, 16, 16]          73,728\n",
            "       BatchNorm2d-8          [-1, 128, 16, 16]             256\n",
            "            Conv2d-9           [-1, 64, 16, 16]             640\n",
            "           Conv2d-10          [-1, 128, 16, 16]           8,320\n",
            "             ReLU-11          [-1, 128, 16, 16]               0\n",
            "      BatchNorm2d-12          [-1, 128, 16, 16]             256\n",
            "       BasicBlock-13          [-1, 128, 16, 16]               0\n",
            "           Conv2d-14          [-1, 128, 16, 16]         147,456\n",
            "      BatchNorm2d-15          [-1, 128, 16, 16]             256\n",
            "       BasicBlock-16          [-1, 128, 16, 16]               0\n",
            "        MaxPool2d-17            [-1, 128, 8, 8]               0\n",
            "           Conv2d-18            [-1, 256, 8, 8]         294,912\n",
            "      BatchNorm2d-19            [-1, 256, 8, 8]             512\n",
            "           Conv2d-20            [-1, 128, 8, 8]           1,280\n",
            "           Conv2d-21            [-1, 256, 8, 8]          33,024\n",
            "             ReLU-22            [-1, 256, 8, 8]               0\n",
            "      BatchNorm2d-23            [-1, 256, 8, 8]             512\n",
            "       BasicBlock-24            [-1, 256, 8, 8]               0\n",
            "           Conv2d-25            [-1, 256, 8, 8]         589,824\n",
            "      BatchNorm2d-26            [-1, 256, 8, 8]             512\n",
            "       BasicBlock-27            [-1, 256, 8, 8]               0\n",
            "        AvgPool2d-28            [-1, 256, 1, 1]               0\n",
            "           Linear-29                   [-1, 10]           2,560\n",
            "================================================================\n",
            "Total params: 1,192,896\n",
            "Trainable params: 1,192,896\n",
            "Non-trainable params: 0\n",
            "----------------------------------------------------------------\n",
            "Input size (MB): 0.01\n",
            "Forward/backward pass size (MB): 6.25\n",
            "Params size (MB): 4.55\n",
            "Estimated Total Size (MB): 10.81\n",
            "----------------------------------------------------------------\n"
          ],
          "name": "stdout"
        }
      ]
    },
    {
      "cell_type": "code",
      "metadata": {
        "id": "Is9n-3zQm6S2"
      },
      "source": [
        "from trainer import train_test_fit"
      ],
      "execution_count": 14,
      "outputs": []
    },
    {
      "cell_type": "code",
      "metadata": {
        "id": "ACcHh7FbnCF3",
        "outputId": "2a6e1dec-f7a6-4b01-ea38-cb0e3a184772",
        "colab": {
          "base_uri": "https://localhost:8080/",
          "height": 1000
        }
      },
      "source": [
        "train_test_fit.fit(model, device, trainloader,testloader,epochs=20,l1=0,l2=0)"
      ],
      "execution_count": 15,
      "outputs": [
        {
          "output_type": "stream",
          "text": [
            "\r  0%|          | 0/391 [00:00<?, ?it/s]"
          ],
          "name": "stderr"
        },
        {
          "output_type": "stream",
          "text": [
            "EPOCH: 0\n"
          ],
          "name": "stdout"
        },
        {
          "output_type": "stream",
          "text": [
            "Train: Batch id: 390 \tLoss: 1.147921\t Accuracy:51.144: 100%|██████████| 391/391 [00:23<00:00, 16.99it/s]\n",
            "  0%|          | 0/391 [00:00<?, ?it/s]"
          ],
          "name": "stderr"
        },
        {
          "output_type": "stream",
          "text": [
            "\n",
            "Test set: loss: 0.008999, Accuracy: 5921/10000 (59.210%)\n",
            "\n",
            "EPOCH: 1\n"
          ],
          "name": "stdout"
        },
        {
          "output_type": "stream",
          "text": [
            "Train: Batch id: 390 \tLoss: 0.685865\t Accuracy:68.058: 100%|██████████| 391/391 [00:23<00:00, 16.86it/s]\n",
            "  0%|          | 0/391 [00:00<?, ?it/s]"
          ],
          "name": "stderr"
        },
        {
          "output_type": "stream",
          "text": [
            "\n",
            "Test set: loss: 0.006461, Accuracy: 7099/10000 (70.990%)\n",
            "\n",
            "EPOCH: 2\n"
          ],
          "name": "stdout"
        },
        {
          "output_type": "stream",
          "text": [
            "Train: Batch id: 390 \tLoss: 0.645798\t Accuracy:74.486: 100%|██████████| 391/391 [00:23<00:00, 16.73it/s]\n",
            "  0%|          | 0/391 [00:00<?, ?it/s]"
          ],
          "name": "stderr"
        },
        {
          "output_type": "stream",
          "text": [
            "\n",
            "Test set: loss: 0.006071, Accuracy: 7425/10000 (74.250%)\n",
            "\n",
            "EPOCH: 3\n"
          ],
          "name": "stdout"
        },
        {
          "output_type": "stream",
          "text": [
            "Train: Batch id: 390 \tLoss: 0.437804\t Accuracy:78.464: 100%|██████████| 391/391 [00:23<00:00, 16.56it/s]\n",
            "  0%|          | 0/391 [00:00<?, ?it/s]"
          ],
          "name": "stderr"
        },
        {
          "output_type": "stream",
          "text": [
            "\n",
            "Test set: loss: 0.004989, Accuracy: 7849/10000 (78.490%)\n",
            "\n",
            "EPOCH: 4\n"
          ],
          "name": "stdout"
        },
        {
          "output_type": "stream",
          "text": [
            "Train: Batch id: 390 \tLoss: 0.610096\t Accuracy:80.824: 100%|██████████| 391/391 [00:23<00:00, 16.62it/s]\n",
            "  0%|          | 0/391 [00:00<?, ?it/s]"
          ],
          "name": "stderr"
        },
        {
          "output_type": "stream",
          "text": [
            "\n",
            "Test set: loss: 0.005172, Accuracy: 7848/10000 (78.480%)\n",
            "\n",
            "EPOCH: 5\n"
          ],
          "name": "stdout"
        },
        {
          "output_type": "stream",
          "text": [
            "Train: Batch id: 390 \tLoss: 0.468453\t Accuracy:82.676: 100%|██████████| 391/391 [00:23<00:00, 16.45it/s]\n",
            "  0%|          | 0/391 [00:00<?, ?it/s]"
          ],
          "name": "stderr"
        },
        {
          "output_type": "stream",
          "text": [
            "\n",
            "Test set: loss: 0.004739, Accuracy: 7954/10000 (79.540%)\n",
            "\n",
            "EPOCH: 6\n"
          ],
          "name": "stdout"
        },
        {
          "output_type": "stream",
          "text": [
            "Train: Batch id: 390 \tLoss: 0.330973\t Accuracy:84.396: 100%|██████████| 391/391 [00:23<00:00, 16.54it/s]\n",
            "  0%|          | 0/391 [00:00<?, ?it/s]"
          ],
          "name": "stderr"
        },
        {
          "output_type": "stream",
          "text": [
            "\n",
            "Test set: loss: 0.003990, Accuracy: 8262/10000 (82.620%)\n",
            "\n",
            "EPOCH: 7\n"
          ],
          "name": "stdout"
        },
        {
          "output_type": "stream",
          "text": [
            "Train: Batch id: 390 \tLoss: 0.294454\t Accuracy:85.610: 100%|██████████| 391/391 [00:23<00:00, 16.52it/s]\n",
            "  0%|          | 0/391 [00:00<?, ?it/s]"
          ],
          "name": "stderr"
        },
        {
          "output_type": "stream",
          "text": [
            "\n",
            "Test set: loss: 0.003828, Accuracy: 8317/10000 (83.170%)\n",
            "\n",
            "EPOCH: 8\n"
          ],
          "name": "stdout"
        },
        {
          "output_type": "stream",
          "text": [
            "Train: Batch id: 390 \tLoss: 0.456155\t Accuracy:86.804: 100%|██████████| 391/391 [00:23<00:00, 16.44it/s]\n",
            "  0%|          | 0/391 [00:00<?, ?it/s]"
          ],
          "name": "stderr"
        },
        {
          "output_type": "stream",
          "text": [
            "\n",
            "Test set: loss: 0.003800, Accuracy: 8365/10000 (83.650%)\n",
            "\n",
            "EPOCH: 9\n"
          ],
          "name": "stdout"
        },
        {
          "output_type": "stream",
          "text": [
            "Train: Batch id: 390 \tLoss: 0.408962\t Accuracy:87.882: 100%|██████████| 391/391 [00:23<00:00, 16.42it/s]\n",
            "  0%|          | 0/391 [00:00<?, ?it/s]"
          ],
          "name": "stderr"
        },
        {
          "output_type": "stream",
          "text": [
            "\n",
            "Test set: loss: 0.003709, Accuracy: 8398/10000 (83.980%)\n",
            "\n",
            "EPOCH: 10\n"
          ],
          "name": "stdout"
        },
        {
          "output_type": "stream",
          "text": [
            "Train: Batch id: 390 \tLoss: 0.370638\t Accuracy:89.674: 100%|██████████| 391/391 [00:23<00:00, 16.41it/s]\n",
            "  0%|          | 0/391 [00:00<?, ?it/s]"
          ],
          "name": "stderr"
        },
        {
          "output_type": "stream",
          "text": [
            "\n",
            "Test set: loss: 0.003119, Accuracy: 8648/10000 (86.480%)\n",
            "\n",
            "EPOCH: 11\n"
          ],
          "name": "stdout"
        },
        {
          "output_type": "stream",
          "text": [
            "Train: Batch id: 390 \tLoss: 0.319337\t Accuracy:90.474: 100%|██████████| 391/391 [00:23<00:00, 16.36it/s]\n",
            "  0%|          | 0/391 [00:00<?, ?it/s]"
          ],
          "name": "stderr"
        },
        {
          "output_type": "stream",
          "text": [
            "\n",
            "Test set: loss: 0.003011, Accuracy: 8669/10000 (86.690%)\n",
            "\n",
            "EPOCH: 12\n"
          ],
          "name": "stdout"
        },
        {
          "output_type": "stream",
          "text": [
            "Train: Batch id: 390 \tLoss: 0.254120\t Accuracy:90.744: 100%|██████████| 391/391 [00:23<00:00, 16.43it/s]\n",
            "  0%|          | 0/391 [00:00<?, ?it/s]"
          ],
          "name": "stderr"
        },
        {
          "output_type": "stream",
          "text": [
            "\n",
            "Test set: loss: 0.002981, Accuracy: 8690/10000 (86.900%)\n",
            "\n",
            "EPOCH: 13\n"
          ],
          "name": "stdout"
        },
        {
          "output_type": "stream",
          "text": [
            "Train: Batch id: 390 \tLoss: 0.208961\t Accuracy:91.000: 100%|██████████| 391/391 [00:23<00:00, 16.48it/s]\n",
            "  0%|          | 0/391 [00:00<?, ?it/s]"
          ],
          "name": "stderr"
        },
        {
          "output_type": "stream",
          "text": [
            "\n",
            "Test set: loss: 0.002985, Accuracy: 8709/10000 (87.090%)\n",
            "\n",
            "EPOCH: 14\n"
          ],
          "name": "stdout"
        },
        {
          "output_type": "stream",
          "text": [
            "Train: Batch id: 390 \tLoss: 0.216272\t Accuracy:91.114: 100%|██████████| 391/391 [00:23<00:00, 16.38it/s]\n",
            "  0%|          | 0/391 [00:00<?, ?it/s]"
          ],
          "name": "stderr"
        },
        {
          "output_type": "stream",
          "text": [
            "\n",
            "Test set: loss: 0.002937, Accuracy: 8722/10000 (87.220%)\n",
            "\n",
            "EPOCH: 15\n"
          ],
          "name": "stdout"
        },
        {
          "output_type": "stream",
          "text": [
            "Train: Batch id: 390 \tLoss: 0.240418\t Accuracy:91.384: 100%|██████████| 391/391 [00:23<00:00, 16.35it/s]\n",
            "  0%|          | 0/391 [00:00<?, ?it/s]"
          ],
          "name": "stderr"
        },
        {
          "output_type": "stream",
          "text": [
            "\n",
            "Test set: loss: 0.002938, Accuracy: 8713/10000 (87.130%)\n",
            "\n",
            "EPOCH: 16\n"
          ],
          "name": "stdout"
        },
        {
          "output_type": "stream",
          "text": [
            "Train: Batch id: 390 \tLoss: 0.175432\t Accuracy:91.382: 100%|██████████| 391/391 [00:23<00:00, 16.31it/s]\n",
            "  0%|          | 0/391 [00:00<?, ?it/s]"
          ],
          "name": "stderr"
        },
        {
          "output_type": "stream",
          "text": [
            "\n",
            "Test set: loss: 0.002907, Accuracy: 8714/10000 (87.140%)\n",
            "\n",
            "EPOCH: 17\n"
          ],
          "name": "stdout"
        },
        {
          "output_type": "stream",
          "text": [
            "Train: Batch id: 390 \tLoss: 0.215250\t Accuracy:91.700: 100%|██████████| 391/391 [00:24<00:00, 16.26it/s]\n",
            "  0%|          | 0/391 [00:00<?, ?it/s]"
          ],
          "name": "stderr"
        },
        {
          "output_type": "stream",
          "text": [
            "\n",
            "Test set: loss: 0.002902, Accuracy: 8737/10000 (87.370%)\n",
            "\n",
            "EPOCH: 18\n"
          ],
          "name": "stdout"
        },
        {
          "output_type": "stream",
          "text": [
            "Train: Batch id: 390 \tLoss: 0.121619\t Accuracy:91.464: 100%|██████████| 391/391 [00:23<00:00, 16.30it/s]\n",
            "  0%|          | 0/391 [00:00<?, ?it/s]"
          ],
          "name": "stderr"
        },
        {
          "output_type": "stream",
          "text": [
            "\n",
            "Test set: loss: 0.002873, Accuracy: 8739/10000 (87.390%)\n",
            "\n",
            "EPOCH: 19\n"
          ],
          "name": "stdout"
        },
        {
          "output_type": "stream",
          "text": [
            "Train: Batch id: 390 \tLoss: 0.157099\t Accuracy:91.776: 100%|██████████| 391/391 [00:23<00:00, 16.34it/s]\n"
          ],
          "name": "stderr"
        },
        {
          "output_type": "stream",
          "text": [
            "\n",
            "Test set: loss: 0.002870, Accuracy: 8744/10000 (87.440%)\n",
            "\n"
          ],
          "name": "stdout"
        }
      ]
    },
    {
      "cell_type": "code",
      "metadata": {
        "id": "4LgwusFvnEjW"
      },
      "source": [
        ""
      ],
      "execution_count": null,
      "outputs": []
    },
    {
      "cell_type": "code",
      "metadata": {
        "id": "iIQhOOVfePDb"
      },
      "source": [
        ""
      ],
      "execution_count": null,
      "outputs": []
    }
  ]
}